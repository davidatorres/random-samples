{
 "cells": [
  {
   "cell_type": "code",
   "execution_count": null,
   "metadata": {},
   "outputs": [],
   "source": [
    "import os\n",
    "from os.path import join\n",
    "from dotenv import load_dotenv\n",
    "dotenv_path = join(os.getcwd(), '.env')  # <<< allows you to change the path and file name of the .env file\n",
    "print(f'Full path to .env file: {dotenv_path}')\n",
    "load_dotenv(dotenv_path)\n",
    "print(f'Database environment variable: {os.getenv(\"DATABASE\")}')"
   ]
  }
 ],
 "metadata": {
  "kernelspec": {
   "display_name": "AMLenv",
   "language": "python",
   "name": "python3"
  },
  "language_info": {
   "codemirror_mode": {
    "name": "ipython",
    "version": 3
   },
   "file_extension": ".py",
   "mimetype": "text/x-python",
   "name": "python",
   "nbconvert_exporter": "python",
   "pygments_lexer": "ipython3",
   "version": "3.10.12"
  },
  "orig_nbformat": 4
 },
 "nbformat": 4,
 "nbformat_minor": 2
}
