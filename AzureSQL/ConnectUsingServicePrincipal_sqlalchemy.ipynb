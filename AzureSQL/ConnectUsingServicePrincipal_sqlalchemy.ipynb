{
 "cells": [
  {
   "cell_type": "markdown",
   "metadata": {},
   "source": [
    "### Example connecting to Azure SQL database using Service Principal credentials, sqlalchemy and pandas\n",
    "\n",
    "-----\n",
    "\n",
    "### Import libraries and retrieve environment variables"
   ]
  },
  {
   "cell_type": "code",
   "execution_count": null,
   "metadata": {},
   "outputs": [],
   "source": [
    "# System imports\n",
    "import os\n",
    "from sqlalchemy import create_engine\n",
    "import pandas as pd\n",
    "import urllib\n",
    "#\n",
    "# retrieve and print environment variables\n",
    "#\n",
    "# load environment variables from .env file (which should be in .gitignore)\n",
    "# this is a way to keep sensitive information out of the codebase\n",
    "# the following code allows for .env file to be in same directory as script\n",
    "# or you can specify the path relative to the notebook to the .env file\n",
    "from os.path import join\n",
    "from dotenv import load_dotenv\n",
    "dotenv_path = join(os.getcwd(), '.env')\n",
    "load_dotenv(dotenv_path)\n",
    "#\n",
    "# get environment variables\n",
    "#\n",
    "DRIVER = os.getenv(\"DRIVER\")\n",
    "RESOURCE = os.getenv(\"RESOURCE\")\n",
    "SERVER = os.getenv(\"SERVER\")\n",
    "DATABASE = os.getenv(\"DATABASE\")\n",
    "TENANT_ID = os.getenv(\"TENANT_ID\")\n",
    "CLIENT_ID = os.getenv(\"CLIENT_ID\")\n",
    "CLIENT_SECRET = os.getenv(\"CLIENT_SECRET\")\n",
    "\n",
    "print(\"Environment variables loaded successfully.\")\n",
    "print(f\"Driver: {DRIVER}\", f\"Resource: {RESOURCE}\", f\"Server: {SERVER}\", f\"Database: {DATABASE}\", sep=\"\\n\")"
   ]
  },
  {
   "cell_type": "markdown",
   "metadata": {},
   "source": [
    "### Connect to Azure SQL database using Service Principal credentials."
   ]
  },
  {
   "cell_type": "code",
   "execution_count": null,
   "metadata": {},
   "outputs": [],
   "source": [
    "# Create connection string\n",
    "conn_str = (\n",
    "    f'DRIVER={DRIVER};'\n",
    "    f'SERVER={SERVER};'\n",
    "    f'DATABASE={DATABASE};'\n",
    "    f'Authentication=ActiveDirectoryServicePrincipal;'\n",
    "    f'TenantId={TENANT_ID};'\n",
    "    f'UID={CLIENT_ID};'\n",
    "    f'PWD={CLIENT_SECRET};'\n",
    "    # f'Trusted_Connection=No;'\n",
    "    # f'Trusted_Connection=No;'\n",
    "    # f'MultipleActiveResultSets=true;'\n",
    "    # f'TrustServerCertificate=true;'\n",
    "    # f'Trusted_Connection=No;'\n",
    "    # f'Authentication=\"ActiveDirectoryServicePrincipal\";'\n",
    "    # f'Token={token};'\n",
    "    f'Connection Timeout=30;'\n",
    ")\n",
    "#\n",
    "# create connection string\n",
    "#\n",
    "params = urllib.parse.quote_plus(conn_str)\n",
    "conn_str = 'mssql+pyodbc:///?odbc_connect=' + params\n",
    "#\n",
    "# create engine\n",
    "#\n",
    "engine = create_engine(conn_str)\n",
    "if engine:\n",
    "    print(\"Connection established successfully.\")\n",
    "else:\n",
    "    print(\"Connection could not be established.\")"
   ]
  },
  {
   "cell_type": "markdown",
   "metadata": {},
   "source": [
    "### Query database and close connection"
   ]
  },
  {
   "cell_type": "code",
   "execution_count": null,
   "metadata": {},
   "outputs": [],
   "source": [
    "#\n",
    "# execute query and load results into dataframe\n",
    "#\n",
    "df = pd.read_sql('SELECT TOP 1 * FROM Person.Person', engine)\n",
    "#\n",
    "# print dataframe shape\n",
    "#\n",
    "print(f'Dataframe Shape: {df.shape}')\n",
    "#\n",
    "# close connection\n",
    "#\n",
    "engine.dispose()"
   ]
  }
 ],
 "metadata": {
  "kernelspec": {
   "display_name": "CSSenv",
   "language": "python",
   "name": "python3"
  },
  "language_info": {
   "codemirror_mode": {
    "name": "ipython",
    "version": 3
   },
   "file_extension": ".py",
   "mimetype": "text/x-python",
   "name": "python",
   "nbconvert_exporter": "python",
   "pygments_lexer": "ipython3",
   "version": "3.11.4"
  },
  "orig_nbformat": 4
 },
 "nbformat": 4,
 "nbformat_minor": 2
}
