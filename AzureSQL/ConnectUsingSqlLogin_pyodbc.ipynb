{
 "cells": [
  {
   "cell_type": "markdown",
   "metadata": {},
   "source": [
    "### Example connecting to Azure SQL database using SQL Login credentials, pyodbc, and pandas\n",
    "\n",
    "-----\n",
    "\n",
    "### Import libraries and retrieve environment variables"
   ]
  },
  {
   "cell_type": "code",
   "execution_count": null,
   "metadata": {},
   "outputs": [],
   "source": [
    "# System imports\n",
    "import os\n",
    "import warnings\n",
    "warnings.filterwarnings('ignore')\n",
    "\n",
    "import pyodbc as db\n",
    "import pandas as pd\n",
    "#\n",
    "# retrieve and print environment variables\n",
    "#\n",
    "# load environment variables from .env file (which should be in .gitignore)\n",
    "# this is a way to keep sensitive information out of the codebase\n",
    "# the following code allows for .env file to be in same directory as script\n",
    "# or you can specify the path relative to the notebook to the .env file\n",
    "from os.path import join\n",
    "from dotenv import load_dotenv\n",
    "dotenv_path = join(os.getcwd(), '.env')\n",
    "load_dotenv(dotenv_path)\n",
    "#\n",
    "# get environment variables\n",
    "#\n",
    "DRIVER = os.getenv(\"DRIVER\")\n",
    "SERVER = os.getenv(\"SERVER\")\n",
    "DATABASE = os.getenv(\"DATABASE\")\n",
    "USERNAME = os.getenv(\"USERNAME\")\n",
    "PASSWORD = os.getenv(\"PASSWORD\")\n",
    "\n",
    "print(\"Environment variables loaded successfully.\")\n",
    "print(f\"Driver: {DRIVER}\", f\"Server: {SERVER}\", f\"Database: {DATABASE}\", sep=\"\\n\")"
   ]
  },
  {
   "cell_type": "markdown",
   "metadata": {},
   "source": [
    "### Connect to Azure SQL database using Service Principal credentials."
   ]
  },
  {
   "cell_type": "code",
   "execution_count": null,
   "metadata": {},
   "outputs": [],
   "source": [
    "# create connection string\n",
    "conn_str = (\n",
    "    f'DRIVER={DRIVER};'\n",
    "    f'SERVER={SERVER};'\n",
    "    f'DATABASE={DATABASE};'\n",
    "    f'Connection Timeout=30;'\n",
    "    f'UID={USERNAME};'\n",
    "    f'PWD={PASSWORD};'\n",
    ")\n",
    "\n",
    "# Establish the connection\n",
    "conn = db.connect(conn_str)\n",
    "\n",
    "if conn:\n",
    "    print(\"Connection established successfully.\")\n",
    "else:\n",
    "    print(\"Connection could not be established.\")\n"
   ]
  },
  {
   "cell_type": "markdown",
   "metadata": {},
   "source": [
    "### Query database and close connection"
   ]
  },
  {
   "cell_type": "code",
   "execution_count": null,
   "metadata": {},
   "outputs": [],
   "source": [
    "#\n",
    "# execute query and load results into dataframe\n",
    "#\n",
    "df = pd.read_sql('SELECT TOP 1 * FROM Person.Person', conn)\n",
    "#\n",
    "# print dataframe shape\n",
    "#\n",
    "print(f'Dataframe Shape: {df.shape}')\n",
    "#\n",
    "# close connection\n",
    "#\n",
    "conn.close()"
   ]
  }
 ],
 "metadata": {
  "kernelspec": {
   "display_name": "CSSenv",
   "language": "python",
   "name": "python3"
  },
  "language_info": {
   "codemirror_mode": {
    "name": "ipython",
    "version": 3
   },
   "file_extension": ".py",
   "mimetype": "text/x-python",
   "name": "python",
   "nbconvert_exporter": "python",
   "pygments_lexer": "ipython3",
   "version": "3.11.4"
  },
  "orig_nbformat": 4
 },
 "nbformat": 4,
 "nbformat_minor": 2
}
