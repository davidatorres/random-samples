{
 "cells": [
  {
   "cell_type": "markdown",
   "metadata": {},
   "source": [
    "### Example connecting to Azure SQL database using Azure CLI credentials, sqlalchemy, and pandas\n",
    "\n",
    "-----\n",
    "\n",
    "### Import libraries and retrieve environment variables"
   ]
  },
  {
   "cell_type": "code",
   "execution_count": null,
   "metadata": {},
   "outputs": [],
   "source": [
    "#\n",
    "# import libraries\n",
    "#\n",
    "import os\n",
    "import pandas as pd\n",
    "import struct\n",
    "from sqlalchemy import create_engine, event\n",
    "from sqlalchemy.engine.url import URL\n",
    "from azure.identity import AzureCliCredential\n",
    "#\n",
    "# retrieve and print environment variables\n",
    "#\n",
    "# load environment variables from .env file (which should be in .gitignore)\n",
    "# this is a way to keep sensitive information out of the codebase\n",
    "# the following code allows for .env file to be in same directory as script\n",
    "# or you can specify the path relative to the notebook to the .env file\n",
    "from os.path import join\n",
    "from dotenv import load_dotenv\n",
    "dotenv_path = join(os.getcwd(), '.env')\n",
    "load_dotenv(dotenv_path)\n",
    "# get environment variables\n",
    "DRIVER = os.getenv(\"DRIVER\")\n",
    "RESOURCE = os.getenv(\"RESOURCE\")\n",
    "SERVER = os.getenv(\"SERVER\")\n",
    "DATABASE = os.getenv(\"DATABASE\")\n",
    "SQL_COPT_SS_ACCESS_TOKEN = 1256  # Connection option for access tokens, as defined in msodbcsql.h\n",
    "# print environment variables\n",
    "print(\"Environment variables loaded successfully.\")\n",
    "print(f\"Driver: {DRIVER}\", f\"Resource: {RESOURCE}\", f\"Server: {SERVER}\", f\"Database: {DATABASE}\", sep=\"\\n\")"
   ]
  },
  {
   "cell_type": "markdown",
   "metadata": {},
   "source": [
    "### Connect to Azure SQL database using Azure CLI credentials."
   ]
  },
  {
   "cell_type": "code",
   "execution_count": null,
   "metadata": {},
   "outputs": [],
   "source": [
    "conn_str = (\n",
    "    f'DRIVER={DRIVER};'\n",
    "    f'SERVER={SERVER};'\n",
    "    f'DATABASE={DATABASE};'\n",
    "    f'Connection Timeout=30;'\n",
    "    # f'Authentication=ActiveDirectoryServicePrincipal;'\n",
    "    # f'TenantId={tenant_id};'\n",
    "    # f'UID={client_id};'\n",
    "    # f'PWD={client_secret};'\n",
    "    # f'Token={token};'\n",
    "    # f'Trusted_Connection=No;'\n",
    "    # f'Trusted_Connection=No;'\n",
    "    # f'MultipleActiveResultSets=true;'\n",
    "    # f'TrustServerCertificate=true;'\n",
    "    # f'Trusted_Connection=No;'\n",
    ")\n",
    "\n",
    "# params = urllib.parse.quote_plus(conn_str)\n",
    "\n",
    "connection_string = 'mssql+pyodbc:///?odbc_connect=' + conn_str\n",
    "\n",
    "engine = create_engine(connection_string)\n",
    "#\n",
    "# get token from Azure CLI\n",
    "#\n",
    "credential = AzureCliCredential()\n",
    "#\n",
    "# connect using token\n",
    "#\n",
    "@event.listens_for(engine, \"do_connect\")\n",
    "def provide_token(dialect, conn_rec, cargs, cparams):\n",
    "    # remove the \"Trusted_Connection\" parameter that SQLAlchemy adds\n",
    "    cargs[0] = cargs[0].replace(\";Trusted_Connection=Yes\", \"\")\n",
    "\n",
    "    # create token credential\n",
    "    raw_token = credential.get_token(RESOURCE).token.encode(\"utf-16-le\")\n",
    "    token_struct = struct.pack(f\"<I{len(raw_token)}s\", len(raw_token), raw_token)\n",
    "\n",
    "    # apply it to keyword arguments\n",
    "    cparams[\"attrs_before\"] = {SQL_COPT_SS_ACCESS_TOKEN: token_struct}\n",
    "\n",
    "if engine:\n",
    "    print(\"Connection established successfully.\")\n",
    "else:\n",
    "    print(\"Connection could not be established.\")"
   ]
  },
  {
   "cell_type": "markdown",
   "metadata": {},
   "source": [
    "### Query database and close connection"
   ]
  },
  {
   "cell_type": "code",
   "execution_count": null,
   "metadata": {},
   "outputs": [],
   "source": [
    "#\n",
    "# execute query and load results into dataframe\n",
    "#\n",
    "df = pd.read_sql('SELECT TOP 1 * FROM Person.Person', engine)\n",
    "#\n",
    "# print dataframe shape\n",
    "#\n",
    "print(f'Dataframe Shape: {df.shape}')\n",
    "#\n",
    "# close connection\n",
    "#\n",
    "engine.dispose()"
   ]
  }
 ],
 "metadata": {
  "kernelspec": {
   "display_name": "CSSenv",
   "language": "python",
   "name": "python3"
  },
  "language_info": {
   "codemirror_mode": {
    "name": "ipython",
    "version": 3
   },
   "file_extension": ".py",
   "mimetype": "text/x-python",
   "name": "python",
   "nbconvert_exporter": "python",
   "pygments_lexer": "ipython3",
   "version": "3.11.4"
  },
  "orig_nbformat": 4
 },
 "nbformat": 4,
 "nbformat_minor": 2
}
